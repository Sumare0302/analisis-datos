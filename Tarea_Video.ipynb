{
  "nbformat": 4,
  "nbformat_minor": 0,
  "metadata": {
    "colab": {
      "provenance": [],
      "authorship_tag": "ABX9TyNUlXpdnOQw9i7YdcW89qEY",
      "include_colab_link": true
    },
    "kernelspec": {
      "name": "python3",
      "display_name": "Python 3"
    },
    "language_info": {
      "name": "python"
    }
  },
  "cells": [
    {
      "cell_type": "markdown",
      "metadata": {
        "id": "view-in-github",
        "colab_type": "text"
      },
      "source": [
        "<a href=\"https://colab.research.google.com/github/Sumare0302/analisis-datos/blob/main/Tarea_Video.ipynb\" target=\"_parent\"><img src=\"https://colab.research.google.com/assets/colab-badge.svg\" alt=\"Open In Colab\"/></a>"
      ]
    },
    {
      "cell_type": "code",
      "execution_count": null,
      "metadata": {
        "colab": {
          "base_uri": "https://localhost:8080/"
        },
        "id": "NJFj1nVqIR3-",
        "outputId": "e78c0145-dc86-4ce7-a6dc-68ac8fe4bd3b"
      },
      "outputs": [
        {
          "output_type": "stream",
          "name": "stdout",
          "text": [
            "Ejercicio Bisiesto\n",
            "Ingrese el año:2019\n",
            "El año no es Bisiesto\n"
          ]
        }
      ],
      "source": [
        "print(\"Ejercicio Bisiesto\")\n",
        "anio=int(input(\"Ingrese el año:\"))\n",
        "if(anio % 400 == 0)or (anio % 4 ==0) and (anio % 100 !=0):\n",
        "  print(\"El año es Bisiesto\")\n",
        "\n",
        "else:\n",
        "  print(\"El año no es Bisiesto\")\n"
      ]
    },
    {
      "cell_type": "code",
      "source": [
        "switcher={1:\"Enero\",2:\"Febrero\",3:\"Marzo\",4:\"Arbil\",5:\"Mayo\",6:\"Junio\",7:\"Julio\",8:\"Agosto\",9:\"Setiembre\",10:\"Octubre\",11:\"Noviembre\",12:\"Diciembre\"}\n",
        "argument=int(input(\"Ingrese un numero:\"))\n",
        "nameMes=switcher.get(argument,\"Mes Invalido\")\n",
        "print(nameMes)"
      ],
      "metadata": {
        "colab": {
          "base_uri": "https://localhost:8080/"
        },
        "id": "hDa8IoIKJ2X8",
        "outputId": "43832d96-0e2b-48e6-ea05-e91e9a90e9da"
      },
      "execution_count": null,
      "outputs": [
        {
          "output_type": "stream",
          "name": "stdout",
          "text": [
            "Ingrese un numero5\n",
            "Mayo\n"
          ]
        }
      ]
    },
    {
      "cell_type": "code",
      "source": [
        "C=-1\n",
        "I=0\n",
        "M=0\n",
        "while(C<0) or (I<=0) or (I>=100) or (M<=0):\n",
        "  print(\"Introduce el capital, el interes, y el tiempo apropiados\")\n",
        "  C=int(input(\"Capital: \"))\n",
        "  I=int(input(\"Interes: \"))\n",
        "  M=int(input(\"Tiempos en Annios: \"))\n",
        "\n",
        "for i in range(M):\n",
        "  C=C*(1+ I/100)\n",
        "  print(\"Monto\", C,\"Colones\")\n"
      ],
      "metadata": {
        "colab": {
          "base_uri": "https://localhost:8080/"
        },
        "id": "fcOUG-N6KL-A",
        "outputId": "4fc9253f-e8d8-4f9b-c581-eaca5f06e9f0"
      },
      "execution_count": null,
      "outputs": [
        {
          "output_type": "stream",
          "name": "stdout",
          "text": [
            "Introduce el capital, el interes, y el tiempo apropiados\n",
            "Capital: 1000\n",
            "Interes: 10\n",
            "Tiempos en Annios: 20\n",
            "Monto 1100.0 Colones\n",
            "Monto 1210.0 Colones\n",
            "Monto 1331.0 Colones\n",
            "Monto 1464.1000000000001 Colones\n",
            "Monto 1610.5100000000002 Colones\n",
            "Monto 1771.5610000000004 Colones\n",
            "Monto 1948.7171000000005 Colones\n",
            "Monto 2143.5888100000006 Colones\n",
            "Monto 2357.9476910000008 Colones\n",
            "Monto 2593.742460100001 Colones\n",
            "Monto 2853.1167061100014 Colones\n",
            "Monto 3138.4283767210018 Colones\n",
            "Monto 3452.271214393102 Colones\n",
            "Monto 3797.4983358324125 Colones\n",
            "Monto 4177.248169415654 Colones\n",
            "Monto 4594.97298635722 Colones\n",
            "Monto 5054.470284992943 Colones\n",
            "Monto 5559.917313492238 Colones\n",
            "Monto 6115.909044841462 Colones\n",
            "Monto 6727.499949325608 Colones\n"
          ]
        }
      ]
    },
    {
      "cell_type": "code",
      "source": [
        "print(\"Digite un numero\")\n",
        "numero=int(input(\"Numero: \"))\n",
        "\n",
        "while numero>0:\n",
        "  Suma=0\n",
        "  for i in range(1,numero+1):\n",
        "    if(numero % i==0):\n",
        "      Suma=Suma + i\n",
        "  print(Suma)\n",
        "  numero=int(input(\"Numero: \"))"
      ],
      "metadata": {
        "colab": {
          "base_uri": "https://localhost:8080/"
        },
        "id": "v_CQV3IvLi8s",
        "outputId": "812ebd5b-2c6b-4b7c-8fa7-7894b8ec2c1d"
      },
      "execution_count": null,
      "outputs": [
        {
          "name": "stdout",
          "output_type": "stream",
          "text": [
            "Digite un numero\n",
            "Numero: 0\n"
          ]
        }
      ]
    },
    {
      "cell_type": "code",
      "source": [],
      "metadata": {
        "id": "G1dsi95vNzO8"
      },
      "execution_count": null,
      "outputs": []
    }
  ]
}