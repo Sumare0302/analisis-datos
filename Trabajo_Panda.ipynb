{
  "nbformat": 4,
  "nbformat_minor": 0,
  "metadata": {
    "colab": {
      "provenance": [],
      "authorship_tag": "ABX9TyODA/+NU2P7dbTr5EImzdBh",
      "include_colab_link": true
    },
    "kernelspec": {
      "name": "python3",
      "display_name": "Python 3"
    },
    "language_info": {
      "name": "python"
    }
  },
  "cells": [
    {
      "cell_type": "markdown",
      "metadata": {
        "id": "view-in-github",
        "colab_type": "text"
      },
      "source": [
        "<a href=\"https://colab.research.google.com/github/Sumare0302/analisis-datos/blob/main/Trabajo_Panda.ipynb\" target=\"_parent\"><img src=\"https://colab.research.google.com/assets/colab-badge.svg\" alt=\"Open In Colab\"/></a>"
      ]
    },
    {
      "cell_type": "code",
      "execution_count": null,
      "metadata": {
        "colab": {
          "base_uri": "https://localhost:8080/"
        },
        "id": "qqS-h4u6Vjf3",
        "outputId": "d53ed227-5990-41f2-b1e2-493036ab88a9"
      },
      "outputs": [
        {
          "output_type": "stream",
          "name": "stdout",
          "text": [
            "       Contry    Capital  Population\n",
            "0  Costa Rica   San Jose     4500000\n",
            "1       India  New Delhi  1303171035\n",
            "2      Brazil   Brasilia   207847528\n"
          ]
        }
      ],
      "source": [
        "import pandas as pd\n",
        "data={'Contry':['Costa Rica','India' , 'Brazil'],'Capital':['San Jose','New Delhi' , 'Brasilia'],'Population':[4500000, 1303171035,207847528 ]}\n",
        "df=pd.DataFrame(data,columns=['Contry','Capital','Population'])\n",
        "print(df)"
      ]
    },
    {
      "cell_type": "code",
      "source": [
        "print(\"Promedio de los elementos del vector\")\n",
        "Suma=0\n",
        "Media=0\n",
        "Temp=[]\n",
        "print(\"Ingrese cantidad de temperaturas\")\n",
        "N=int(input())\n",
        "\n",
        "for i in range(N):\n",
        "  temperatura=float(input(\"Ingrese la temperatura:\"))\n",
        "  Temp.append(temperatura)\n",
        "  Suma=Suma+Temp[i]\n",
        "Media=Suma/N\n",
        "print(Media)"
      ],
      "metadata": {
        "colab": {
          "base_uri": "https://localhost:8080/"
        },
        "id": "pybThY6qYZOO",
        "outputId": "a541af9e-d6a2-4cfa-ccb7-c9b1e364456f"
      },
      "execution_count": null,
      "outputs": [
        {
          "output_type": "stream",
          "name": "stdout",
          "text": [
            "Promedio de los elementos del vector\n",
            "Ingrese cantidad de temperaturas\n",
            "5\n",
            "Ingrese la temperatura60\n",
            "Ingrese la temperatura50\n",
            "Ingrese la temperatura40\n",
            "Ingrese la temperatura30\n",
            "Ingrese la temperatura20\n",
            "40.0\n"
          ]
        }
      ]
    },
    {
      "cell_type": "code",
      "source": [
        "import pandas as pd\n",
        "\n",
        "mascotas = pd.DataFrame(\n",
        "    data={\n",
        "        'name':['Minino','Milo','Snoppy','Blanco','LittlePony'],\n",
        "        'type':['gato','perro','perro','perro','caballo']\n",
        "    },\n",
        "    index=[71,42,11,98,42]\n",
        ")\n",
        "\n",
        "visitas = pd.DataFrame(\n",
        "    data={\n",
        "        'pet_id':[42,31,71,42,98,42],\n",
        "        'fecha':['2018-06-14','2019-10-20','2020-03-15','2021-08-01','2022-02-26','2023-08-26'],\n",
        "        'costo':[1000,2000,3000,4000,5000,6000]    \n",
        "    }\n",
        ")\n",
        "mascotas.index.rename('pet_id',inplace=True)\n",
        "visitas.index.rename('visit_id',inplace=True)\n",
        "\n",
        "print(mascotas.query('pet_id==71'))\n",
        "\n",
        "print(visitas['costo'].sum())\n",
        "print(visitas['costo'].min())\n",
        "print(visitas['costo'].max())\n",
        "\n",
        "print(visitas)\n",
        "\n",
        "print(visitas.sort_values(by='costo',ascending=False))\n",
        "\n",
        "tienda=pd.merge(mascotas,visitas,how='cross')\n",
        "\n",
        "print(tienda)\n"
      ],
      "metadata": {
        "colab": {
          "base_uri": "https://localhost:8080/"
        },
        "id": "e8wVtb90ZniB",
        "outputId": "47abe68a-cc2f-44a8-f982-d272bb90eb80"
      },
      "execution_count": null,
      "outputs": [
        {
          "output_type": "stream",
          "name": "stdout",
          "text": [
            "          name  type\n",
            "pet_id              \n",
            "71      Minino  gato\n",
            "21000\n",
            "1000\n",
            "6000\n",
            "          pet_id       fecha  costo\n",
            "visit_id                           \n",
            "0             42  2018-06-14   1000\n",
            "1             31  2019-10-20   2000\n",
            "2             71  2020-03-15   3000\n",
            "3             42  2021-08-01   4000\n",
            "4             98  2022-02-26   5000\n",
            "5             42  2023-08-26   6000\n",
            "          pet_id       fecha  costo\n",
            "visit_id                           \n",
            "5             42  2023-08-26   6000\n",
            "4             98  2022-02-26   5000\n",
            "3             42  2021-08-01   4000\n",
            "2             71  2020-03-15   3000\n",
            "1             31  2019-10-20   2000\n",
            "0             42  2018-06-14   1000\n",
            "          name     type  pet_id       fecha  costo\n",
            "0       Minino     gato      42  2018-06-14   1000\n",
            "1       Minino     gato      31  2019-10-20   2000\n",
            "2       Minino     gato      71  2020-03-15   3000\n",
            "3       Minino     gato      42  2021-08-01   4000\n",
            "4       Minino     gato      98  2022-02-26   5000\n",
            "5       Minino     gato      42  2023-08-26   6000\n",
            "6         Milo    perro      42  2018-06-14   1000\n",
            "7         Milo    perro      31  2019-10-20   2000\n",
            "8         Milo    perro      71  2020-03-15   3000\n",
            "9         Milo    perro      42  2021-08-01   4000\n",
            "10        Milo    perro      98  2022-02-26   5000\n",
            "11        Milo    perro      42  2023-08-26   6000\n",
            "12      Snoppy    perro      42  2018-06-14   1000\n",
            "13      Snoppy    perro      31  2019-10-20   2000\n",
            "14      Snoppy    perro      71  2020-03-15   3000\n",
            "15      Snoppy    perro      42  2021-08-01   4000\n",
            "16      Snoppy    perro      98  2022-02-26   5000\n",
            "17      Snoppy    perro      42  2023-08-26   6000\n",
            "18      Blanco    perro      42  2018-06-14   1000\n",
            "19      Blanco    perro      31  2019-10-20   2000\n",
            "20      Blanco    perro      71  2020-03-15   3000\n",
            "21      Blanco    perro      42  2021-08-01   4000\n",
            "22      Blanco    perro      98  2022-02-26   5000\n",
            "23      Blanco    perro      42  2023-08-26   6000\n",
            "24  LittlePony  caballo      42  2018-06-14   1000\n",
            "25  LittlePony  caballo      31  2019-10-20   2000\n",
            "26  LittlePony  caballo      71  2020-03-15   3000\n",
            "27  LittlePony  caballo      42  2021-08-01   4000\n",
            "28  LittlePony  caballo      98  2022-02-26   5000\n",
            "29  LittlePony  caballo      42  2023-08-26   6000\n"
          ]
        }
      ]
    }
  ]
}