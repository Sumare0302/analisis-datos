{
  "nbformat": 4,
  "nbformat_minor": 0,
  "metadata": {
    "colab": {
      "provenance": [],
      "authorship_tag": "ABX9TyOIvJ2gAmSlfv6vJaYFJSCs",
      "include_colab_link": true
    },
    "kernelspec": {
      "name": "python3",
      "display_name": "Python 3"
    },
    "language_info": {
      "name": "python"
    }
  },
  "cells": [
    {
      "cell_type": "markdown",
      "metadata": {
        "id": "view-in-github",
        "colab_type": "text"
      },
      "source": [
        "<a href=\"https://colab.research.google.com/github/Sumare0302/analisis-datos/blob/main/Laboratorio_2_Jorge_Aguero.ipynb\" target=\"_parent\"><img src=\"https://colab.research.google.com/assets/colab-badge.svg\" alt=\"Open In Colab\"/></a>"
      ]
    },
    {
      "cell_type": "code",
      "execution_count": null,
      "metadata": {
        "colab": {
          "base_uri": "https://localhost:8080/"
        },
        "id": "ZkmkecLy3GKz",
        "outputId": "6fe15eb3-0f16-48e3-9171-e0abedec2664"
      },
      "outputs": [
        {
          "output_type": "stream",
          "name": "stdout",
          "text": [
            "------------------------------------------------------------------\n",
            "Ejercicio #2 IMPRIMIR EL EL MENOR DE DOS NUMEROS\n",
            "------------------------------------------------------------------\n",
            "Ingrese 2 numeros:\n",
            "Primer Numero:10\n",
            "Segundo Numero:11\n",
            "\n",
            "SALIDA: \n",
            "------------------------------------------------------------------\n",
            "El menor es: 10\n"
          ]
        }
      ],
      "source": [
        "print(\"------------------------------------------------------------------\")\n",
        "print(\"Ejercicio #2 IMPRIMIR EL EL MENOR DE DOS NUMEROS\")\n",
        "print(\"------------------------------------------------------------------\")\n",
        "\n",
        "print(\"Ingrese 2 numeros:\")\n",
        "x=int(input(\"Primer Numero:\"))\n",
        "y=int(input(\"Segundo Numero:\"))\n",
        "print(\"\\nSALIDA: \")\n",
        "print(\"------------------------------------------------------------------\")\n",
        "\n",
        "if x > y:\n",
        "  print(\"El menor es:\",y)\n",
        "else:\n",
        "  print(\"El menor es:\",x)\n"
      ]
    },
    {
      "cell_type": "code",
      "source": [
        "switcher={1:\"Enero\",2:\"Febrero\",3:\"Marzo\",4:\"Arbil\",5:\"Mayo\",6:\"Junio\",7:\"Julio\",8:\"Agosto\",9:\"Setiembre\",10:\"Octubre\",11:\"Noviembre\",12:\"Diciembre\"}\n",
        "argument=int(input(\"Ingrese un numero\"))\n",
        "nameMes=switcher.get(argument,\"Mes Invalido\")\n",
        "print(nameMes)\n"
      ],
      "metadata": {
        "colab": {
          "base_uri": "https://localhost:8080/"
        },
        "id": "DRCNKUV166kX",
        "outputId": "d9a1fd1f-a0c3-43a2-e46c-18413a86a7b4"
      },
      "execution_count": null,
      "outputs": [
        {
          "output_type": "stream",
          "name": "stdout",
          "text": [
            "Ingrese un numero12\n",
            "Diciembre\n"
          ]
        }
      ]
    }
  ]
}