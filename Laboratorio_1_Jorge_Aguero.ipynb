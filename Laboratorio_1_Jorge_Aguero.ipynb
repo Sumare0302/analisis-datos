{
  "nbformat": 4,
  "nbformat_minor": 0,
  "metadata": {
    "colab": {
      "provenance": [],
      "authorship_tag": "ABX9TyPCaf8gslOYCwa2Nuj3qbpb",
      "include_colab_link": true
    },
    "kernelspec": {
      "name": "python3",
      "display_name": "Python 3"
    },
    "language_info": {
      "name": "python"
    }
  },
  "cells": [
    {
      "cell_type": "markdown",
      "metadata": {
        "id": "view-in-github",
        "colab_type": "text"
      },
      "source": [
        "<a href=\"https://colab.research.google.com/github/Sumare0302/analisis-datos/blob/main/Laboratorio_1_Jorge_Aguero.ipynb\" target=\"_parent\"><img src=\"https://colab.research.google.com/assets/colab-badge.svg\" alt=\"Open In Colab\"/></a>"
      ]
    },
    {
      "cell_type": "code",
      "execution_count": null,
      "metadata": {
        "colab": {
          "base_uri": "https://localhost:8080/"
        },
        "id": "U7KvPi5qHLre",
        "outputId": "d9b7f84c-8441-4de3-faf4-9de207bcbc88"
      },
      "outputs": [
        {
          "output_type": "stream",
          "name": "stdout",
          "text": [
            "Ejercicio #1 Calcular distancia\n",
            "Ingrese la velocidad y el tiempo de la unidad movil\n",
            "Ingrese la velocidad:2\n",
            "Ingrese el tiempo:3\n",
            "La distancia es:6.0\n"
          ]
        }
      ],
      "source": [
        "print(\"Ejercicio #1 Calcular distancia\")\n",
        "print(\"Ingrese la velocidad y el tiempo de la unidad movil\")\n",
        "v=float(input(\"Ingrese la velocidad:\"))\n",
        "t=float(input(\"Ingrese el tiempo:\"))\n",
        "print(\"La distancia es:\"+str(v*t))"
      ]
    },
    {
      "cell_type": "code",
      "source": [
        "print(\"Ejercicio #2 Promedio notas\")\n",
        "nota1=float(input(\"Ingrese la nota 1:\"))\n",
        "nota2=int(input(\"Ingrese la nota 2:\"))\n",
        "nota3=int(input(\"Ingrese la nota 3:\"))\n",
        "print(\"El promedio de las notas es:\"+str((nota1+nota2+nota3)/3))"
      ],
      "metadata": {
        "colab": {
          "base_uri": "https://localhost:8080/"
        },
        "id": "zUOoxNdqJFGb",
        "outputId": "1a291881-efcd-4609-8758-901aaa991167"
      },
      "execution_count": null,
      "outputs": [
        {
          "output_type": "stream",
          "name": "stdout",
          "text": [
            "Ejercicio #2 Promedio notas\n",
            "Ingrese la nota 1:10\n",
            "Ingrese la nota 2:10\n",
            "Ingrese la nota 3:10\n",
            "El promedio de las notas es:10.0\n"
          ]
        }
      ]
    },
    {
      "cell_type": "code",
      "source": [
        "print(\"Ejercicio #3\")\n",
        "rc = int(input(\"Ingrese el numero de respuestas correctas:\"))\n",
        "ri = int(input(\"Ingrese el numero de respuestas incorrectas:\"))\n",
        "rb = int(input(\"Ingrese el numero de respuestas en blanco:\"))\n",
        "prc = rc * 3\n",
        "total = prc - ri\n",
        "print(\"El puntaje total es: \" + str(total))"
      ],
      "metadata": {
        "id": "m9iyREDNKzXz"
      },
      "execution_count": null,
      "outputs": []
    }
  ]
}